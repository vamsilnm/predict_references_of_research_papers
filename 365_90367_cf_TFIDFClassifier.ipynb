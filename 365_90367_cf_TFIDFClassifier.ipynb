{
 "cells": [
  {
   "cell_type": "code",
   "execution_count": 3,
   "metadata": {
    "collapsed": true
   },
   "outputs": [],
   "source": [
    "import numpy as np\n",
    "import pandas as pd\n",
    "import nltk\n",
    "import csv\n",
    "from sklearn.feature_extraction.text import TfidfVectorizer, CountVectorizer\n",
    "from sklearn.metrics.pairwise import cosine_similarity\n",
    "from nltk.corpus import stopwords\n",
    "stop_words = stopwords.words('english')"
   ]
  },
  {
   "cell_type": "code",
   "execution_count": 4,
   "metadata": {},
   "outputs": [
    {
     "name": "stdout",
     "output_type": "stream",
     "text": [
      "(3522, 2)\n",
      "(3522, 7)\n",
      "<class 'pandas.core.frame.DataFrame'>\n",
      "RangeIndex: 3522 entries, 0 to 3521\n",
      "Data columns (total 7 columns):\n",
      "abstract         3522 non-null object\n",
      "article_title    3522 non-null object\n",
      "author_str       3089 non-null object\n",
      "pmid             3522 non-null int64\n",
      "pub_date         3522 non-null object\n",
      "set              3522 non-null int64\n",
      "full_Text        141 non-null object\n",
      "dtypes: int64(2), object(5)\n",
      "memory usage: 192.7+ KB\n",
      "None\n",
      "[13 18 16 14  3  2  6  8  5]\n"
     ]
    }
   ],
   "source": [
    "information_train=pd.read_csv('information_train.csv',sep=\"\\t\")\n",
    "train=pd.read_csv('train.csv')\n",
    "\n",
    "print(train.shape)\n",
    "print(information_train.shape)\n",
    "print(information_train.info())\n",
    "print(information_train['set'].unique())"
   ]
  },
  {
   "cell_type": "code",
   "execution_count": 5,
   "metadata": {},
   "outputs": [
    {
     "name": "stdout",
     "output_type": "stream",
     "text": [
      "(2034, 7)\n",
      "<class 'pandas.core.frame.DataFrame'>\n",
      "RangeIndex: 2034 entries, 0 to 2033\n",
      "Data columns (total 7 columns):\n",
      "abstract         2034 non-null object\n",
      "article_title    2034 non-null object\n",
      "author_str       1881 non-null object\n",
      "pmid             2034 non-null int64\n",
      "pub_date         2034 non-null object\n",
      "set              2034 non-null int64\n",
      "full_Text        26 non-null object\n",
      "dtypes: int64(2), object(5)\n",
      "memory usage: 111.3+ KB\n",
      "None\n",
      "[17 10  4  9 11  1 15  7 19]\n"
     ]
    }
   ],
   "source": [
    "information_test=pd.read_csv('information_test.csv',sep=\"\\t\")\n",
    "test=pd.read_csv('test.csv')\n",
    "print(information_test.shape)\n",
    "print(information_test.info())\n",
    "print(information_test['set'].unique())"
   ]
  },
  {
   "cell_type": "code",
   "execution_count": 6,
   "metadata": {},
   "outputs": [
    {
     "name": "stdout",
     "output_type": "stream",
     "text": [
      "(3008,)\n",
      "(1698,)\n"
     ]
    }
   ],
   "source": [
    "print(information_train['author_str'].unique().shape)\n",
    "print(information_test['author_str'].unique().shape)"
   ]
  },
  {
   "cell_type": "code",
   "execution_count": 7,
   "metadata": {
    "collapsed": true
   },
   "outputs": [],
   "source": [
    "Full_test_data_frame=pd.merge(test,information_test)\n",
    "Full_test_data_frame.head()\n",
    "tfv = TfidfVectorizer(min_df=2,  max_features=None, \n",
    "            strip_accents='unicode', analyzer='word',token_pattern=r'\\w{1,}',\n",
    "            ngram_range=(1, 1), use_idf=1,smooth_idf=1,sublinear_tf=1,\n",
    "            stop_words = 'english')\n",
    "tfv.fit(list(information_train['abstract']) + list(information_test['abstract'])+list(information_train['article_title']) + list(information_test['article_title']))\n",
    "Full_test_data_frame[\"abstract_title\"] = Full_test_data_frame[\"abstract\"].map(str) + \" \"+Full_test_data_frame[\"article_title\"]\n",
    "abstractTransform=tfv.transform(Full_test_data_frame['abstract_title']);"
   ]
  },
  {
   "cell_type": "code",
   "execution_count": 8,
   "metadata": {},
   "outputs": [
    {
     "name": "stderr",
     "output_type": "stream",
     "text": [
      "c:\\users\\kumar\\anaconda3\\envs\\tensorflow\\lib\\site-packages\\ipykernel_launcher.py:94: FutureWarning: set_value is deprecated and will be removed in a future release. Please use .at[] or .iat[] accessors instead\n"
     ]
    },
    {
     "name": "stdout",
     "output_type": "stream",
     "text": [
      "0\n"
     ]
    }
   ],
   "source": [
    "tm=cosine_similarity(abstractTransform,abstractTransform)\n",
    "\n",
    "#(abstractTransform * abstractTransform.T).A\n",
    "Full_test_data_frame[\"ref_list\"] = \"\"\n",
    "c=0\n",
    "for index, row in Full_test_data_frame.iterrows():    \n",
    "    temp=np.argpartition(tm[index], -5)[-5:]\n",
    "    stringT='\\\"['\n",
    "    flag=True\n",
    "    for t in temp:\n",
    "        if((Full_test_data_frame.iloc[t]['pmid']!=Full_test_data_frame.iloc[index]['pmid'])& (Full_test_data_frame.iloc[t]['set']==Full_test_data_frame.iloc[index]['set'])):\n",
    "            stringT +=\"\\'\"+str(Full_test_data_frame.iloc[t]['pmid'])+\"\\',\"\n",
    "            flag=False\n",
    "    \n",
    "    stringT=stringT[:-1]\n",
    "    stringT+=\"]\\\"\" \n",
    "    if(flag):\n",
    "        temp=np.argpartition(tm[index], -7)[-7:]\n",
    "        stringT='\\\"['\n",
    "        flag=True\n",
    "        for t in temp:\n",
    "            if((Full_test_data_frame.iloc[t]['pmid']!=Full_test_data_frame.iloc[index]['pmid'])& (Full_test_data_frame.iloc[t]['set']==Full_test_data_frame.iloc[index]['set'])):\n",
    "                stringT +=\"\\'\"+str(Full_test_data_frame.iloc[t]['pmid'])+\"\\',\"\n",
    "                flag=False\n",
    "                break\n",
    "\n",
    "        stringT=stringT[:-1]\n",
    "        stringT+=\"]\\\"\" \n",
    "    if(flag):\n",
    "        temp=np.argpartition(tm[index], -10)[-10:]\n",
    "        stringT='\\\"['\n",
    "        flag=True\n",
    "        for t in temp:\n",
    "            if((Full_test_data_frame.iloc[t]['pmid']!=Full_test_data_frame.iloc[index]['pmid'])& (Full_test_data_frame.iloc[t]['set']==Full_test_data_frame.iloc[index]['set'])):\n",
    "                stringT +=\"\\'\"+str(Full_test_data_frame.iloc[t]['pmid'])+\"\\',\"\n",
    "                flag=False\n",
    "                break\n",
    "\n",
    "        stringT=stringT[:-1]\n",
    "        stringT+=\"]\\\"\"\n",
    "    if(flag):\n",
    "        temp=np.argpartition(tm[index], -15)[-15:]\n",
    "        stringT='\\\"['\n",
    "        flag=True\n",
    "        for t in temp:\n",
    "            if((Full_test_data_frame.iloc[t]['pmid']!=Full_test_data_frame.iloc[index]['pmid'])& (Full_test_data_frame.iloc[t]['set']==Full_test_data_frame.iloc[index]['set'])):\n",
    "                stringT +=\"\\'\"+str(Full_test_data_frame.iloc[t]['pmid'])+\"\\',\"\n",
    "                flag=False\n",
    "                break\n",
    "\n",
    "        stringT=stringT[:-1]\n",
    "        stringT+=\"]\\\"\"\n",
    "    if(flag):\n",
    "        temp=np.argpartition(tm[index], -20)[-20:]\n",
    "        stringT='\\\"['\n",
    "        flag=True\n",
    "        for t in temp:\n",
    "            if((Full_test_data_frame.iloc[t]['pmid']!=Full_test_data_frame.iloc[index]['pmid'])& (Full_test_data_frame.iloc[t]['set']==Full_test_data_frame.iloc[index]['set'])):\n",
    "                stringT +=\"\\'\"+str(Full_test_data_frame.iloc[t]['pmid'])+\"\\',\"\n",
    "                flag=False\n",
    "                break\n",
    "\n",
    "        stringT=stringT[:-1]\n",
    "        stringT+=\"]\\\"\"\n",
    "    if(flag):\n",
    "        temp=np.argpartition(tm[index], -30)[-30:]\n",
    "        stringT='\\\"['\n",
    "        flag=True\n",
    "        for t in temp:\n",
    "            if((Full_test_data_frame.iloc[t]['pmid']!=Full_test_data_frame.iloc[index]['pmid'])& (Full_test_data_frame.iloc[t]['set']==Full_test_data_frame.iloc[index]['set'])):\n",
    "                stringT +=\"\\'\"+str(Full_test_data_frame.iloc[t]['pmid'])+\"\\',\"\n",
    "                flag=False\n",
    "                break\n",
    "\n",
    "        stringT=stringT[:-1]\n",
    "        stringT+=\"]\\\"\"\n",
    "    if(flag):\n",
    "        temp=np.argpartition(tm[index], -50)[-50:]\n",
    "        stringT='\\\"['\n",
    "        flag=True\n",
    "        for t in temp:\n",
    "            if((Full_test_data_frame.iloc[t]['pmid']!=Full_test_data_frame.iloc[index]['pmid'])& (Full_test_data_frame.iloc[t]['set']==Full_test_data_frame.iloc[index]['set'])):\n",
    "                stringT +=\"\\'\"+str(Full_test_data_frame.iloc[t]['pmid'])+\"\\',\"\n",
    "                flag=False\n",
    "                break\n",
    "\n",
    "        stringT=stringT[:-1]\n",
    "        stringT+=\"]\\\"\"\n",
    "        \n",
    "    if(flag):\n",
    "        c=c+1;\n",
    "      \n",
    "    \n",
    "    Full_test_data_frame.set_value(index,'ref_list',stringT)\n",
    "print(c)"
   ]
  },
  {
   "cell_type": "code",
   "execution_count": 9,
   "metadata": {
    "collapsed": true
   },
   "outputs": [],
   "source": [
    "result=Full_test_data_frame[['pmid','ref_list']]\n",
    "result.head()\n",
    "result.to_csv(\"submission20.csv\",index=False,quoting=csv.QUOTE_NONE,escapechar='\\\\')"
   ]
  },
  {
   "cell_type": "code",
   "execution_count": null,
   "metadata": {
    "collapsed": true
   },
   "outputs": [],
   "source": []
  }
 ],
 "metadata": {
  "kernelspec": {
   "display_name": "Python 3",
   "language": "python",
   "name": "python3"
  },
  "language_info": {
   "codemirror_mode": {
    "name": "ipython",
    "version": 3
   },
   "file_extension": ".py",
   "mimetype": "text/x-python",
   "name": "python",
   "nbconvert_exporter": "python",
   "pygments_lexer": "ipython3",
   "version": "3.6.3"
  }
 },
 "nbformat": 4,
 "nbformat_minor": 2
}
